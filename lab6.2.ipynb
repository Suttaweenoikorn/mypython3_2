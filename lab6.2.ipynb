{
 "cells": [
  {
   "cell_type": "code",
   "execution_count": 18,
   "metadata": {},
   "outputs": [
    {
     "name": "stdout",
     "output_type": "stream",
     "text": [
      "name somwang \n",
      "baht 500\n",
      "ot 6000 \n",
      "total 6500\n"
     ]
    }
   ],
   "source": [
    "def money(late):\n",
    "    if(late >= 40):\n",
    "        money = late * 150\n",
    "    else:\n",
    "        money = late * 100\n",
    "    return money\n",
    "        \n",
    "name = (input(\"ชื่อพนักงาน: \"))\n",
    "baht = int(input(\"เงินเดือน: \"))\n",
    "l = int(input(\"ค่าล่วงเวลา: \"))\n",
    "print(\"name %s \" % name)\n",
    "print(\"baht %d\" % baht)\n",
    "print(\"ot %d \" % (money(l)))\n",
    "print(\"total %d\" % (baht+money(l)))\n",
    "\n",
    "\n",
    "\n",
    "\n",
    "\n",
    "\n",
    "\n",
    "        "
   ]
  }
 ],
 "metadata": {
  "kernelspec": {
   "display_name": "Python 3",
   "language": "python",
   "name": "python3"
  },
  "language_info": {
   "codemirror_mode": {
    "name": "ipython",
    "version": 3
   },
   "file_extension": ".py",
   "mimetype": "text/x-python",
   "name": "python",
   "nbconvert_exporter": "python",
   "pygments_lexer": "ipython3",
   "version": "3.12.4"
  }
 },
 "nbformat": 4,
 "nbformat_minor": 2
}
